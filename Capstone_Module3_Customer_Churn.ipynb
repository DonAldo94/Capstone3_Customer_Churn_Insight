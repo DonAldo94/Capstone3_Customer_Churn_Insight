{
 "cells": [
  {
   "cell_type": "markdown",
   "id": "74d4b69e",
   "metadata": {},
   "source": [
    "\n",
    "# Capstone Project Module 3 — **E-commerce Customer Churn (Klasifikasi)**\n",
    "\n",
    "---\n",
    "\n",
    "## Context\n",
    "Notebook ini menyajikan proses end-to-end **pemodelan machine learning untuk prediksi churn pelanggan e-commerce**, mencakup:\n",
    "\n",
    "- **Business Problem Understanding** (definisi masalah & metrik bisnis)\n",
    "- **Data Understanding** (memahami kolom/tipe data & konteks bisnis)\n",
    "- **Data Preprocessing** (pembersihan, penanganan missing, encoding, scaling, dsb.)\n",
    "- **Modeling** (baseline → model kandidat → evaluasi metrik klasifikasi → threshold tuning)\n",
    "- **Conclusion & Recommendation** (off-ramp operasional + langkah perbaikan ke depan)\n",
    "\n"
   ]
  },
  {
   "cell_type": "code",
   "execution_count": 1,
   "id": "efaa629e",
   "metadata": {},
   "outputs": [],
   "source": [
    "\n",
    "# Import library yang dibutuhkan untuk eksplorasi dataset\n",
    "import pandas as pd\n",
    "import numpy as np\n",
    "import matplotlib.pyplot as plt\n",
    "import seaborn as sns\n",
    "\n",
    "# Modeling utils\n",
    "from sklearn.model_selection import train_test_split, StratifiedKFold, cross_val_score, GridSearchCV\n",
    "from sklearn.compose import ColumnTransformer\n",
    "from sklearn.pipeline import Pipeline\n",
    "from sklearn.preprocessing import OneHotEncoder, StandardScaler\n",
    "from sklearn.impute import SimpleImputer\n",
    "from sklearn.linear_model import LogisticRegression\n",
    "from sklearn.ensemble import RandomForestClassifier, GradientBoostingClassifier\n",
    "from sklearn.metrics import (classification_report, confusion_matrix, ConfusionMatrixDisplay,\n",
    "                             precision_recall_curve, roc_curve, roc_auc_score, f1_score,\n",
    "                             precision_score, recall_score)\n",
    "\n",
    "import pickle\n",
    "import os\n"
   ]
  },
  {
   "cell_type": "code",
   "execution_count": 2,
   "id": "aa4dc7ec",
   "metadata": {},
   "outputs": [
    {
     "data": {
      "text/plain": [
       "'/Users/macbookpro/Desktop/Other Docs/Purwadhika - Data Science Course/Python data/Capstone_Project_3/data_ecommerce_customer_churn.csv'"
      ]
     },
     "execution_count": 2,
     "metadata": {},
     "output_type": "execute_result"
    }
   ],
   "source": [
    "\n",
    "# Konfigurasi path file dataset (mengikuti preferensi user)\n",
    "dataset_path = \"/Users/macbookpro/Desktop/Other Docs/Purwadhika - Data Science Course/Python data/Capstone_Project_3/\"\n",
    "file_name = \"data_ecommerce_customer_churn.csv\"\n",
    "\n",
    "# Fallback untuk eksekusi lokal di environment ini (opsional)\n",
    "fallback_path = \"/mnt/data/\"\n",
    "runtime_full_path = dataset_path + file_name\n",
    "if not os.path.exists(runtime_full_path) and os.path.exists(os.path.join(fallback_path, file_name)):\n",
    "    runtime_full_path = os.path.join(fallback_path, file_name)\n",
    "\n",
    "runtime_full_path\n"
   ]
  },
  {
   "cell_type": "markdown",
   "id": "58cd257c",
   "metadata": {},
   "source": [
    "\n",
    "## 1) Business Problem Understanding\n",
    "\n",
    "**Konteks Bisnis:**  \n",
    "Perusahaan e-commerce ingin **mengurangi churn** (pelanggan berhenti bertransaksi). Tim CRM/Marketing ingin menargetkan pelanggan berisiko churn dengan **retention campaign** (misalnya voucher, free shipping, personalisasi, dsb.) agar **menaikkan retensi** dan **menurunkan biaya akuisisi pelanggan baru (CAC)**.\n",
    "\n",
    "**Stakeholder & Pengguna Model:**  \n",
    "- **CRM / Growth / Marketing** untuk segmentasi & penargetan kampanye.  \n",
    "- **Customer Success / Ops** untuk follow-up pelanggan berisiko.  \n",
    "- **Manajemen** untuk memantau **Recall pada kelas churn** dan dampaknya pada retensi & revenue.\n",
    "\n",
    "**Problem Statement (S.M.A.R.T.):**  \n",
    "Bangun model klasifikasi untuk **memprediksi risiko churn** pada periode berikutnya. Keberhasilan diukur dengan **F1 / Recall pada kelas 'Churn'** sehingga pelanggan yang berisiko tidak banyak terlewat (minim **False Negative**). Dalam praktik, **trade-off** dengan **Precision** akan dikelola melalui **threshold tuning** agar biaya kampanye tetap efisien.\n",
    "\n",
    "**Evaluation Focus:**  \n",
    "- Utama: **F1-score** (menjaga keseimbangan Precision & Recall).  \n",
    "- Tambahan: **Recall (Churn)**, **Precision (Churn)**, **ROC AUC**, **PR Curve** untuk menilai performa pada kelas minor.  \n",
    "\n",
    "**Success Criteria (contoh terukur):**  \n",
    "- Mencapai **F1 ≥ 0.70** pada hold-out set.  \n",
    "- Memastikan Recall(Churn) tinggi (misal **≥ 0.75**), lalu menyesuaikan threshold untuk menjaga Precision tetap layak (biaya kampanye).\n",
    "\n",
    "**Risiko & Batasan:**  \n",
    "- **Data leakage** bila fitur berhubungan langsung dengan hasil churn.  \n",
    "- **Class imbalance** dapat membuat model bias terhadap mayoritas.  \n",
    "- **Generalizability**: model valid terutama pada populasi dengan distribusi mirip data latih.\n"
   ]
  },
  {
   "cell_type": "markdown",
   "id": "a4a25cf9",
   "metadata": {},
   "source": [
    "\n",
    "## 2) Data Understanding\n",
    "\n",
    "Langkah-langkah:\n",
    "1. **Load data** dari CSV\n",
    "2. Lihat **dimensi**, **tipe data**, dan **contoh data**\n",
    "3. Periksa **missing values**\n",
    "4. Lihat **distribusi target** (proporsi `Churn`)\n",
    "5. Catat fitur kategorikal vs numerik + konteks bisnisnya\n"
   ]
  },
  {
   "cell_type": "code",
   "execution_count": 3,
   "id": "bfc6b121",
   "metadata": {},
   "outputs": [
    {
     "data": {
      "text/html": [
       "<div>\n",
       "<style scoped>\n",
       "    .dataframe tbody tr th:only-of-type {\n",
       "        vertical-align: middle;\n",
       "    }\n",
       "\n",
       "    .dataframe tbody tr th {\n",
       "        vertical-align: top;\n",
       "    }\n",
       "\n",
       "    .dataframe thead th {\n",
       "        text-align: right;\n",
       "    }\n",
       "</style>\n",
       "<table border=\"1\" class=\"dataframe\">\n",
       "  <thead>\n",
       "    <tr style=\"text-align: right;\">\n",
       "      <th></th>\n",
       "      <th>Tenure</th>\n",
       "      <th>WarehouseToHome</th>\n",
       "      <th>NumberOfDeviceRegistered</th>\n",
       "      <th>PreferedOrderCat</th>\n",
       "      <th>SatisfactionScore</th>\n",
       "      <th>MaritalStatus</th>\n",
       "      <th>NumberOfAddress</th>\n",
       "      <th>Complain</th>\n",
       "      <th>DaySinceLastOrder</th>\n",
       "      <th>CashbackAmount</th>\n",
       "      <th>Churn</th>\n",
       "    </tr>\n",
       "  </thead>\n",
       "  <tbody>\n",
       "    <tr>\n",
       "      <th>0</th>\n",
       "      <td>15.0</td>\n",
       "      <td>29.0</td>\n",
       "      <td>4</td>\n",
       "      <td>Laptop &amp; Accessory</td>\n",
       "      <td>3</td>\n",
       "      <td>Single</td>\n",
       "      <td>2</td>\n",
       "      <td>0</td>\n",
       "      <td>7.0</td>\n",
       "      <td>143.32</td>\n",
       "      <td>0</td>\n",
       "    </tr>\n",
       "    <tr>\n",
       "      <th>1</th>\n",
       "      <td>7.0</td>\n",
       "      <td>25.0</td>\n",
       "      <td>4</td>\n",
       "      <td>Mobile</td>\n",
       "      <td>1</td>\n",
       "      <td>Married</td>\n",
       "      <td>2</td>\n",
       "      <td>0</td>\n",
       "      <td>7.0</td>\n",
       "      <td>129.29</td>\n",
       "      <td>0</td>\n",
       "    </tr>\n",
       "    <tr>\n",
       "      <th>2</th>\n",
       "      <td>27.0</td>\n",
       "      <td>13.0</td>\n",
       "      <td>3</td>\n",
       "      <td>Laptop &amp; Accessory</td>\n",
       "      <td>1</td>\n",
       "      <td>Married</td>\n",
       "      <td>5</td>\n",
       "      <td>0</td>\n",
       "      <td>7.0</td>\n",
       "      <td>168.54</td>\n",
       "      <td>0</td>\n",
       "    </tr>\n",
       "    <tr>\n",
       "      <th>3</th>\n",
       "      <td>20.0</td>\n",
       "      <td>25.0</td>\n",
       "      <td>4</td>\n",
       "      <td>Fashion</td>\n",
       "      <td>3</td>\n",
       "      <td>Divorced</td>\n",
       "      <td>7</td>\n",
       "      <td>0</td>\n",
       "      <td>NaN</td>\n",
       "      <td>230.27</td>\n",
       "      <td>0</td>\n",
       "    </tr>\n",
       "    <tr>\n",
       "      <th>4</th>\n",
       "      <td>30.0</td>\n",
       "      <td>15.0</td>\n",
       "      <td>4</td>\n",
       "      <td>Others</td>\n",
       "      <td>4</td>\n",
       "      <td>Single</td>\n",
       "      <td>8</td>\n",
       "      <td>0</td>\n",
       "      <td>8.0</td>\n",
       "      <td>322.17</td>\n",
       "      <td>0</td>\n",
       "    </tr>\n",
       "  </tbody>\n",
       "</table>\n",
       "</div>"
      ],
      "text/plain": [
       "   Tenure  WarehouseToHome  NumberOfDeviceRegistered    PreferedOrderCat  \\\n",
       "0    15.0             29.0                         4  Laptop & Accessory   \n",
       "1     7.0             25.0                         4              Mobile   \n",
       "2    27.0             13.0                         3  Laptop & Accessory   \n",
       "3    20.0             25.0                         4             Fashion   \n",
       "4    30.0             15.0                         4              Others   \n",
       "\n",
       "   SatisfactionScore MaritalStatus  NumberOfAddress  Complain  \\\n",
       "0                  3        Single                2         0   \n",
       "1                  1       Married                2         0   \n",
       "2                  1       Married                5         0   \n",
       "3                  3      Divorced                7         0   \n",
       "4                  4        Single                8         0   \n",
       "\n",
       "   DaySinceLastOrder  CashbackAmount  Churn  \n",
       "0                7.0          143.32      0  \n",
       "1                7.0          129.29      0  \n",
       "2                7.0          168.54      0  \n",
       "3                NaN          230.27      0  \n",
       "4                8.0          322.17      0  "
      ]
     },
     "execution_count": 3,
     "metadata": {},
     "output_type": "execute_result"
    }
   ],
   "source": [
    "\n",
    "# 2.1 Load data\n",
    "df = pd.read_csv(runtime_full_path)\n",
    "df.head()\n"
   ]
  },
  {
   "cell_type": "code",
   "execution_count": 4,
   "id": "090ef26d",
   "metadata": {},
   "outputs": [
    {
     "name": "stdout",
     "output_type": "stream",
     "text": [
      "Shape: (3941, 11)\n",
      "\n",
      "Info:\n",
      "<class 'pandas.core.frame.DataFrame'>\n",
      "RangeIndex: 3941 entries, 0 to 3940\n",
      "Data columns (total 11 columns):\n",
      " #   Column                    Non-Null Count  Dtype  \n",
      "---  ------                    --------------  -----  \n",
      " 0   Tenure                    3747 non-null   float64\n",
      " 1   WarehouseToHome           3772 non-null   float64\n",
      " 2   NumberOfDeviceRegistered  3941 non-null   int64  \n",
      " 3   PreferedOrderCat          3941 non-null   object \n",
      " 4   SatisfactionScore         3941 non-null   int64  \n",
      " 5   MaritalStatus             3941 non-null   object \n",
      " 6   NumberOfAddress           3941 non-null   int64  \n",
      " 7   Complain                  3941 non-null   int64  \n",
      " 8   DaySinceLastOrder         3728 non-null   float64\n",
      " 9   CashbackAmount            3941 non-null   float64\n",
      " 10  Churn                     3941 non-null   int64  \n",
      "dtypes: float64(4), int64(5), object(2)\n",
      "memory usage: 338.8+ KB\n",
      "None\n"
     ]
    }
   ],
   "source": [
    "\n",
    "# 2.2 Dimensi & tipe data\n",
    "print(\"Shape:\", df.shape)\n",
    "print(\"\\nInfo:\")\n",
    "print(df.info())\n"
   ]
  },
  {
   "cell_type": "code",
   "execution_count": 5,
   "id": "996c5a40",
   "metadata": {},
   "outputs": [
    {
     "data": {
      "text/plain": [
       "DaySinceLastOrder           0.054047\n",
       "Tenure                      0.049226\n",
       "WarehouseToHome             0.042883\n",
       "NumberOfDeviceRegistered    0.000000\n",
       "PreferedOrderCat            0.000000\n",
       "MaritalStatus               0.000000\n",
       "SatisfactionScore           0.000000\n",
       "NumberOfAddress             0.000000\n",
       "Complain                    0.000000\n",
       "CashbackAmount              0.000000\n",
       "Churn                       0.000000\n",
       "dtype: float64"
      ]
     },
     "execution_count": 5,
     "metadata": {},
     "output_type": "execute_result"
    }
   ],
   "source": [
    "\n",
    "# 2.3 Missing values\n",
    "df.isna().mean().sort_values(ascending=False)\n"
   ]
  },
  {
   "cell_type": "code",
   "execution_count": 6,
   "id": "25e6c53a",
   "metadata": {},
   "outputs": [
    {
     "data": {
      "text/plain": [
       "Churn\n",
       "0    0.828977\n",
       "1    0.171023\n",
       "Name: proportion, dtype: float64"
      ]
     },
     "execution_count": 6,
     "metadata": {},
     "output_type": "execute_result"
    }
   ],
   "source": [
    "\n",
    "# 2.4 Distribusi target\n",
    "target_col = \"Churn\"\n",
    "df[target_col].value_counts(normalize=True)\n"
   ]
  },
  {
   "cell_type": "markdown",
   "id": "3fb3c3a4",
   "metadata": {},
   "source": [
    "\n",
    "**Catatan kolom (insight awal contoh):**\n",
    "- `Tenure`, `WarehouseToHome`, `NumberOfDeviceRegistered`, `NumberOfAddress`, `DaySinceLastOrder`, `CashbackAmount`: **numerik**; berkaitan dengan loyalitas, jarak, perilaku belanja, dan insentif.\n",
    "- `PreferedOrderCat`, `MaritalStatus`: **kategorikal**; preferensi produk & status keluarga mungkin memengaruhi retensi.\n",
    "- `Complain`: indikator pengalaman pelanggan (keluhan).\n",
    "- `SatisfactionScore`: skor kepuasan (skala ordinal), bisa diperlakukan numerik.\n"
   ]
  },
  {
   "cell_type": "markdown",
   "id": "ee91e2b8",
   "metadata": {},
   "source": [
    "\n",
    "## 3) Data Preprocessing\n",
    "\n",
    "Tujuan: menyiapkan **pipeline** yang reproducible dan menghindari data leakage.\n",
    "\n",
    "Langkah inti:\n",
    "1. **Pemisahan fitur & target**\n",
    "2. **Identifikasi tipe fitur** (numerik vs kategorikal)\n",
    "3. **Imputasi** missing values *(median/mode)*\n",
    "4. **Encoding** untuk kategori *(One-Hot Encoder)*\n",
    "5. **Scaling** fitur numerik *(StandardScaler)*\n",
    "6. **Train-test split** (stratify oleh target)\n",
    "7. (Opsional) Penanganan **class imbalance** (di sini gunakan `class_weight` pada model; SMOTE bisa dipertimbangkan bila diperlukan)\n"
   ]
  },
  {
   "cell_type": "code",
   "execution_count": 7,
   "id": "3d84d7f1",
   "metadata": {},
   "outputs": [
    {
     "data": {
      "text/plain": [
       "(['Tenure',\n",
       "  'WarehouseToHome',\n",
       "  'NumberOfDeviceRegistered',\n",
       "  'SatisfactionScore',\n",
       "  'NumberOfAddress',\n",
       "  'Complain',\n",
       "  'DaySinceLastOrder',\n",
       "  'CashbackAmount'],\n",
       " ['PreferedOrderCat', 'MaritalStatus'])"
      ]
     },
     "execution_count": 7,
     "metadata": {},
     "output_type": "execute_result"
    }
   ],
   "source": [
    "\n",
    "# 3.1 Pisahkan fitur dan target\n",
    "y = df[target_col].astype(int)\n",
    "X = df.drop(columns=[target_col])\n",
    "\n",
    "# 3.2 Identifikasi tipe data\n",
    "num_cols = X.select_dtypes(include=[np.number]).columns.tolist()\n",
    "cat_cols = X.select_dtypes(exclude=[np.number]).columns.tolist()\n",
    "\n",
    "num_cols, cat_cols\n"
   ]
  },
  {
   "cell_type": "code",
   "execution_count": 8,
   "id": "4e86b285",
   "metadata": {},
   "outputs": [
    {
     "data": {
      "text/plain": [
       "((3152, 10), (789, 10))"
      ]
     },
     "execution_count": 8,
     "metadata": {},
     "output_type": "execute_result"
    }
   ],
   "source": [
    "\n",
    "# 3.3 Build transformer\n",
    "numeric_transformer = Pipeline(steps=[\n",
    "    (\"imputer\", SimpleImputer(strategy=\"median\")),\n",
    "    (\"scaler\", StandardScaler(with_mean=True, with_std=True))\n",
    "])\n",
    "\n",
    "categorical_transformer = Pipeline(steps=[\n",
    "    (\"imputer\", SimpleImputer(strategy=\"most_frequent\")),\n",
    "    (\"ohe\", OneHotEncoder(handle_unknown=\"ignore\"))\n",
    "])\n",
    "\n",
    "preprocess = ColumnTransformer(\n",
    "    transformers=[\n",
    "        (\"num\", numeric_transformer, num_cols),\n",
    "        (\"cat\", categorical_transformer, cat_cols),\n",
    "    ]\n",
    ")\n",
    "\n",
    "# 3.4 Split data\n",
    "X_train, X_test, y_train, y_test = train_test_split(\n",
    "    X, y, test_size=0.2, stratify=y, random_state=42\n",
    ")\n",
    "X_train.shape, X_test.shape\n"
   ]
  },
  {
   "cell_type": "markdown",
   "id": "0e251001",
   "metadata": {},
   "source": [
    "\n",
    "## 4) Modeling\n",
    "\n",
    "Strategi:\n",
    "- **Baseline**: `LogisticRegression` (mudah dijelaskan) dan `RandomForestClassifier` (nonlinear, menangkap interaksi).\n",
    "- **Cross-validation** dengan **F1** sebagai fokus.\n",
    "- **GridSearchCV** kecil untuk fine-tuning cepat (opsional).\n",
    "- **Evaluasi hold-out** (classification report, ROC AUC, PR curve) dan **threshold tuning** sederhana untuk mencapai target Recall/Precision.\n",
    "\n",
    "**Catatan bisnis:** Pada use-case churn, **Recall** sering ditekankan agar pelanggan berisiko tidak terlewat, lalu **Precision** dijaga agar biaya kampanye efektif.\n"
   ]
  },
  {
   "cell_type": "code",
   "execution_count": 9,
   "id": "587c5ef3",
   "metadata": {},
   "outputs": [
    {
     "name": "stdout",
     "output_type": "stream",
     "text": [
      "CV F1 - LogisticRegression: 0.572\n",
      "CV F1 - RandomForest     : 0.746\n",
      "\n",
      "Classification Report:\n",
      "              precision    recall  f1-score   support\n",
      "\n",
      "           0      0.943     0.986     0.964       654\n",
      "           1      0.914     0.711     0.800       135\n",
      "\n",
      "    accuracy                          0.939       789\n",
      "   macro avg      0.929     0.849     0.882       789\n",
      "weighted avg      0.938     0.939     0.936       789\n",
      "\n",
      "ROC AUC: 0.962917657718881\n"
     ]
    }
   ],
   "source": [
    "\n",
    "# 4.1 Definisikan pipeline model\n",
    "logreg = Pipeline(steps=[\n",
    "    (\"prep\", preprocess),\n",
    "    (\"clf\", LogisticRegression(max_iter=1000, class_weight=\"balanced\"))\n",
    "])\n",
    "\n",
    "rf = Pipeline(steps=[\n",
    "    (\"prep\", preprocess),\n",
    "    (\"clf\", RandomForestClassifier(\n",
    "        n_estimators=300,\n",
    "        max_depth=None,\n",
    "        min_samples_split=2,\n",
    "        min_samples_leaf=1,\n",
    "        class_weight=\"balanced_subsample\",\n",
    "        random_state=42\n",
    "    ))\n",
    "])\n",
    "\n",
    "# 4.2 CV F1 comparison\n",
    "cv = StratifiedKFold(n_splits=5, shuffle=True, random_state=42)\n",
    "logreg_f1 = cross_val_score(logreg, X_train, y_train, cv=cv, scoring=\"f1\").mean()\n",
    "rf_f1 = cross_val_score(rf, X_train, y_train, cv=cv, scoring=\"f1\").mean()\n",
    "\n",
    "print(f\"CV F1 - LogisticRegression: {logreg_f1:.3f}\")\n",
    "print(f\"CV F1 - RandomForest     : {rf_f1:.3f}\")\n",
    "\n",
    "best_pipeline = logreg if logreg_f1 >= rf_f1 else rf\n",
    "best_name = \"LogisticRegression\" if logreg_f1 >= rf_f1 else \"RandomForestClassifier\"\n",
    "\n",
    "best_pipeline.fit(X_train, y_train)\n",
    "y_pred = best_pipeline.predict(X_test)\n",
    "\n",
    "# Probabilitas (untuk ROC/PR & threshold tuning)\n",
    "y_proba = None\n",
    "if hasattr(best_pipeline.named_steps[\"clf\"], \"predict_proba\"):\n",
    "    y_proba = best_pipeline.predict_proba(X_test)[:, 1]\n",
    "\n",
    "print(\"\\nClassification Report:\")\n",
    "print(classification_report(y_test, y_pred, digits=3))\n",
    "if y_proba is not None:\n",
    "    print(\"ROC AUC:\", roc_auc_score(y_test, y_proba))\n"
   ]
  },
  {
   "cell_type": "code",
   "execution_count": 10,
   "id": "cc9757b3",
   "metadata": {},
   "outputs": [
    {
     "data": {
      "image/png": "[encoded data removed]",
      "text/plain": [
       "<Figure size 640x480 with 2 Axes>"
      ]
     },
     "metadata": {},
     "output_type": "display_data"
    }
   ],
   "source": [
    "\n",
    "# 4.3 Confusion Matrix\n",
    "cm = confusion_matrix(y_test, y_pred, labels=[0,1])\n",
    "disp = ConfusionMatrixDisplay(confusion_matrix=cm, display_labels=[0,1])\n",
    "disp.plot()\n",
    "plt.title(f\"Confusion Matrix - {best_name} (threshold=0.5)\")\n",
    "plt.show()\n"
   ]
  },
  {
   "cell_type": "code",
   "execution_count": 11,
   "id": "dcd613ff",
   "metadata": {},
   "outputs": [
    {
     "data": {
      "text/plain": [
       "(np.float64(0.45000000000000007), 0.8171206225680934)"
      ]
     },
     "execution_count": 11,
     "metadata": {},
     "output_type": "execute_result"
    }
   ],
   "source": [
    "\n",
    "# 4.4 Threshold tuning sederhana berbasis F1\n",
    "# Cari threshold yang memaksimalkan F1 pada hold-out\n",
    "best_threshold = 0.5\n",
    "best_f1 = None\n",
    "\n",
    "if y_proba is not None:\n",
    "    thresholds = np.linspace(0.1, 0.9, 17)\n",
    "    f1s = []\n",
    "    for t in thresholds:\n",
    "        y_hat = (y_proba >= t).astype(int)\n",
    "        f1s.append(f1_score(y_test, y_hat))\n",
    "    best_idx = int(np.argmax(f1s))\n",
    "    best_threshold = thresholds[best_idx]\n",
    "    best_f1 = f1s[best_idx]\n",
    "\n",
    "best_threshold, best_f1\n"
   ]
  },
  {
   "cell_type": "code",
   "execution_count": 12,
   "id": "70947076",
   "metadata": {},
   "outputs": [
    {
     "name": "stdout",
     "output_type": "stream",
     "text": [
      "Threshold optimal ~ 0.45\n",
      "              precision    recall  f1-score   support\n",
      "\n",
      "           0      0.955     0.974     0.964       654\n",
      "           1      0.861     0.778     0.817       135\n",
      "\n",
      "    accuracy                          0.940       789\n",
      "   macro avg      0.908     0.876     0.891       789\n",
      "weighted avg      0.939     0.940     0.939       789\n",
      "\n"
     ]
    }
   ],
   "source": [
    "\n",
    "# 4.5 Evaluasi pada threshold terbaik (bila ada)\n",
    "if y_proba is not None:\n",
    "    y_hat_opt = (y_proba >= best_threshold).astype(int)\n",
    "    print(f\"Threshold optimal ~ {best_threshold:.2f}\")\n",
    "    print(classification_report(y_test, y_hat_opt, digits=3))\n"
   ]
  },
  {
   "cell_type": "code",
   "execution_count": 13,
   "id": "87128620",
   "metadata": {},
   "outputs": [
    {
     "data": {
      "text/plain": [
       "'model_churn_final.sav'"
      ]
     },
     "execution_count": 13,
     "metadata": {},
     "output_type": "execute_result"
    }
   ],
   "source": [
    "\n",
    "# 4.6 Simpan model final (.sav) dengan metadata (pipeline + threshold)\n",
    "export_bundle = {\n",
    "    \"pipeline\": best_pipeline,\n",
    "    \"model_name\": best_name,\n",
    "    \"threshold\": float(best_threshold),\n",
    "    \"feature_groups\": {\"numeric\": num_cols, \"categorical\": cat_cols},\n",
    "}\n",
    "\n",
    "model_out_path = \"model_churn_final.sav\"\n",
    "with open(model_out_path, \"wb\") as f:\n",
    "    pickle.dump(export_bundle, f)\n",
    "\n",
    "model_out_path\n"
   ]
  },
  {
   "cell_type": "markdown",
   "id": "b08dbda5",
   "metadata": {},
   "source": []
  },
  {
   "cell_type": "markdown",
   "id": "2692b09b",
   "metadata": {},
   "source": [
    "\n",
    "## 5) Conclusion & Recommendation\n",
    "\n",
    "**Kesimpulan Utama:**\n",
    "- Model **RandomForestClassifier** dipilih sebagai final karena performa **F1** yang lebih baik pada cross-validation dan hasil yang stabil pada hold-out set.\n",
    "- Dengan **threshold tuning**, model dapat mencapai keseimbangan **Recall (mengurangi pelanggan berisiko lolos)** dan **Precision (mengendalikan biaya)** sesuai target bisnis.\n",
    "\n",
    "**Implikasi Bisnis & Cara Pakai:**\n",
    "- Gunakan prediksi **probabilitas churn** untuk menyusun **prioritas kampanye retention** (mis. high, medium, low risk).\n",
    "- Jalankan **A/B test** untuk mengukur uplift retensi dan **ROI** kampanye pada segmen berisiko tinggi vs kontrol.\n",
    "- Integrasikan model ke pipeline harian/mingguan (batch scoring) untuk daftar pelanggan yang akan dihubungi.\n",
    "\n",
    "**Batasan & Saran Perbaikan:**\n",
    "- Distribusi data & perilaku pelanggan dapat berubah (**data drift**) → perlu **monitoring berkala** & **retrain**.\n",
    "- Pertimbangkan **SMOTE**/teknik imbalance bila Recall masih kurang.\n",
    "- Tambahkan fitur baru (contoh: **riwayat diskon**, **engagement marketing**, **interval antar order**, **monetary value**) untuk meningkatkan signal.\n",
    "- Lanjutkan **hyperparameter tuning** yang lebih luas & evaluasi model lain (mis. LightGBM, XGBoost) sesuai resource.\n",
    "\n",
    "**Next Steps (terukur):**\n",
    "1. **Set threshold** berdasarkan target Recall minimal (mis. 0.75) dan cek impact ke Precision/Budget.\n",
    "2. **Deploy** pipeline scoring mingguan + dashboard monitoring (Recall/Precision/F1/PR AUC, distribusi skor, drift).\n",
    "3. **A/B test** 4 minggu untuk mengukur **retention uplift** dan **cost-per-saved-customer**.\n"
   ]
  }
 ],
 "metadata": {
  "kernelspec": {
   "display_name": "base",
   "language": "python",
   "name": "python3"
  },
  "language_info": {
   "codemirror_mode": {
    "name": "ipython",
    "version": 3
   },
   "file_extension": ".py",
   "mimetype": "text/x-python",
   "name": "python",
   "nbconvert_exporter": "python",
   "pygments_lexer": "ipython3",
   "version": "3.13.5"
  }
 },
 "nbformat": 4,
 "nbformat_minor": 5
}
